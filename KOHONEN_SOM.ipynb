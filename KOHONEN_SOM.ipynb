{
 "cells": [
  {
   "cell_type": "code",
   "execution_count": 1,
   "metadata": {},
   "outputs": [],
   "source": [
    "import numpy as np\n",
    "import pandas as pd\n",
    "import matplotlib.pyplot as plt\n",
    "from sklearn.preprocessing import StandardScaler"
   ]
  },
  {
   "cell_type": "code",
   "execution_count": 2,
   "metadata": {},
   "outputs": [],
   "source": [
    "df = pd.read_csv(\"features.csv\")"
   ]
  },
  {
   "cell_type": "code",
   "execution_count": 3,
   "metadata": {},
   "outputs": [
    {
     "data": {
      "text/html": [
       "<div>\n",
       "<style scoped>\n",
       "    .dataframe tbody tr th:only-of-type {\n",
       "        vertical-align: middle;\n",
       "    }\n",
       "\n",
       "    .dataframe tbody tr th {\n",
       "        vertical-align: top;\n",
       "    }\n",
       "\n",
       "    .dataframe thead th {\n",
       "        text-align: right;\n",
       "    }\n",
       "</style>\n",
       "<table border=\"1\" class=\"dataframe\">\n",
       "  <thead>\n",
       "    <tr style=\"text-align: right;\">\n",
       "      <th></th>\n",
       "      <th>Unnamed: 0</th>\n",
       "      <th>question_id</th>\n",
       "      <th>correctly_answered</th>\n",
       "      <th>incorrectly_answered</th>\n",
       "      <th>not_answered</th>\n",
       "      <th>avg_marks_correct</th>\n",
       "      <th>avg_marks_incorrect</th>\n",
       "      <th>avg_marks_na</th>\n",
       "      <th>f1</th>\n",
       "      <th>f2</th>\n",
       "      <th>perc_corr</th>\n",
       "      <th>perc_na</th>\n",
       "      <th>perc_incorr</th>\n",
       "    </tr>\n",
       "  </thead>\n",
       "  <tbody>\n",
       "    <tr>\n",
       "      <th>0</th>\n",
       "      <td>0</td>\n",
       "      <td>1</td>\n",
       "      <td>144</td>\n",
       "      <td>91</td>\n",
       "      <td>34</td>\n",
       "      <td>30.4167</td>\n",
       "      <td>17.7253</td>\n",
       "      <td>24.6855</td>\n",
       "      <td>0.007733</td>\n",
       "      <td>0.278695</td>\n",
       "      <td>25</td>\n",
       "      <td>6</td>\n",
       "      <td>1</td>\n",
       "    </tr>\n",
       "    <tr>\n",
       "      <th>1</th>\n",
       "      <td>1</td>\n",
       "      <td>2</td>\n",
       "      <td>114</td>\n",
       "      <td>88</td>\n",
       "      <td>53</td>\n",
       "      <td>29.8246</td>\n",
       "      <td>15.0341</td>\n",
       "      <td>19.9795</td>\n",
       "      <td>0.006053</td>\n",
       "      <td>0.208200</td>\n",
       "      <td>13</td>\n",
       "      <td>0</td>\n",
       "      <td>2</td>\n",
       "    </tr>\n",
       "    <tr>\n",
       "      <th>2</th>\n",
       "      <td>2</td>\n",
       "      <td>3</td>\n",
       "      <td>67</td>\n",
       "      <td>132</td>\n",
       "      <td>48</td>\n",
       "      <td>31.1045</td>\n",
       "      <td>21.3409</td>\n",
       "      <td>26.5354</td>\n",
       "      <td>0.003645</td>\n",
       "      <td>0.131860</td>\n",
       "      <td>11</td>\n",
       "      <td>11</td>\n",
       "      <td>12</td>\n",
       "    </tr>\n",
       "    <tr>\n",
       "      <th>3</th>\n",
       "      <td>3</td>\n",
       "      <td>4</td>\n",
       "      <td>146</td>\n",
       "      <td>65</td>\n",
       "      <td>54</td>\n",
       "      <td>34.8288</td>\n",
       "      <td>15.3692</td>\n",
       "      <td>22.0449</td>\n",
       "      <td>0.008500</td>\n",
       "      <td>0.340585</td>\n",
       "      <td>41</td>\n",
       "      <td>6</td>\n",
       "      <td>2</td>\n",
       "    </tr>\n",
       "    <tr>\n",
       "      <th>4</th>\n",
       "      <td>4</td>\n",
       "      <td>5</td>\n",
       "      <td>82</td>\n",
       "      <td>97</td>\n",
       "      <td>63</td>\n",
       "      <td>31.6951</td>\n",
       "      <td>21.3093</td>\n",
       "      <td>27.0053</td>\n",
       "      <td>0.004511</td>\n",
       "      <td>0.178583</td>\n",
       "      <td>21</td>\n",
       "      <td>18</td>\n",
       "      <td>8</td>\n",
       "    </tr>\n",
       "  </tbody>\n",
       "</table>\n",
       "</div>"
      ],
      "text/plain": [
       "   Unnamed: 0  question_id  correctly_answered  incorrectly_answered  \\\n",
       "0           0            1                 144                    91   \n",
       "1           1            2                 114                    88   \n",
       "2           2            3                  67                   132   \n",
       "3           3            4                 146                    65   \n",
       "4           4            5                  82                    97   \n",
       "\n",
       "   not_answered  avg_marks_correct  avg_marks_incorrect  avg_marks_na  \\\n",
       "0            34            30.4167              17.7253       24.6855   \n",
       "1            53            29.8246              15.0341       19.9795   \n",
       "2            48            31.1045              21.3409       26.5354   \n",
       "3            54            34.8288              15.3692       22.0449   \n",
       "4            63            31.6951              21.3093       27.0053   \n",
       "\n",
       "         f1        f2  perc_corr  perc_na  perc_incorr  \n",
       "0  0.007733  0.278695         25        6            1  \n",
       "1  0.006053  0.208200         13        0            2  \n",
       "2  0.003645  0.131860         11       11           12  \n",
       "3  0.008500  0.340585         41        6            2  \n",
       "4  0.004511  0.178583         21       18            8  "
      ]
     },
     "execution_count": 3,
     "metadata": {},
     "output_type": "execute_result"
    }
   ],
   "source": [
    "df.head()"
   ]
  },
  {
   "cell_type": "code",
   "execution_count": 4,
   "metadata": {},
   "outputs": [],
   "source": [
    "df.drop(\"Unnamed: 0\",axis=1,inplace=True)"
   ]
  },
  {
   "cell_type": "code",
   "execution_count": 5,
   "metadata": {},
   "outputs": [],
   "source": [
    "col_vals = list(df.columns.values)"
   ]
  },
  {
   "cell_type": "code",
   "execution_count": 6,
   "metadata": {},
   "outputs": [
    {
     "data": {
      "text/plain": [
       "array([ 0.14981564, -0.39007751,  0.08718786, -0.27251688, -0.09923819,\n",
       "        0.7006844 ,  0.1194738 ,  0.09623047,  0.19515755,  0.1560662 ,\n",
       "       -0.78863677])"
      ]
     },
     "execution_count": 6,
     "metadata": {},
     "output_type": "execute_result"
    }
   ],
   "source": [
    "ss = StandardScaler()\n",
    "data = ss.fit_transform(np.array(df[col_vals[1:12]]))\n",
    "data[0]"
   ]
  },
  {
   "cell_type": "code",
   "execution_count": 7,
   "metadata": {},
   "outputs": [],
   "source": [
    "n_clusters = 3\n",
    "features = len(data[0])\n",
    "total_data = len(data)\n",
    "W = []"
   ]
  },
  {
   "cell_type": "code",
   "execution_count": 8,
   "metadata": {},
   "outputs": [],
   "source": [
    "def get_weights():\n",
    "    '''\n",
    "    function for initialize random values in the weight vectors for the neural network to be used.\n",
    "    uses the no of features to initialize a vector.\n",
    "    '''\n",
    "    y = np.random.random()*(2.0/np.sqrt(total_data))\n",
    "    return 0.5 - (1/np.sqrt(total_data)) + y "
   ]
  },
  {
   "cell_type": "code",
   "execution_count": 9,
   "metadata": {},
   "outputs": [],
   "source": [
    "'''\n",
    "Using the above function to initialize the weight vectors\n",
    "'''\n",
    "for i in range(n_clusters):\n",
    "    W.append(list())\n",
    "    for j in range(features):\n",
    "        W[i].append(get_weights() * 0.5)"
   ]
  },
  {
   "cell_type": "code",
   "execution_count": 10,
   "metadata": {},
   "outputs": [
    {
     "data": {
      "text/plain": [
       "[[0.24563295116255257,\n",
       "  0.2522009839267108,\n",
       "  0.25183118388529535,\n",
       "  0.2572810678416092,\n",
       "  0.23845388788555577,\n",
       "  0.25375327917333274,\n",
       "  0.25005915031013415,\n",
       "  0.24651535465908425,\n",
       "  0.2414807867255396,\n",
       "  0.2568018318813328,\n",
       "  0.25805478724640785],\n",
       " [0.23880605658477908,\n",
       "  0.2539657614633512,\n",
       "  0.24900854682473988,\n",
       "  0.2399875475104729,\n",
       "  0.23979217769911196,\n",
       "  0.24593556061782262,\n",
       "  0.24401413387580723,\n",
       "  0.24606344923534412,\n",
       "  0.26034406285882705,\n",
       "  0.2548219681288769,\n",
       "  0.26139519167844427],\n",
       " [0.25120009956036116,\n",
       "  0.26095748177747136,\n",
       "  0.25275386168379793,\n",
       "  0.25908746636683705,\n",
       "  0.25023061498659005,\n",
       "  0.24144279013611647,\n",
       "  0.2548427172176907,\n",
       "  0.2420453504535711,\n",
       "  0.24598346554546327,\n",
       "  0.24832362272796762,\n",
       "  0.2552806875216018]]"
      ]
     },
     "execution_count": 10,
     "metadata": {},
     "output_type": "execute_result"
    }
   ],
   "source": [
    "W"
   ]
  },
  {
   "cell_type": "code",
   "execution_count": 11,
   "metadata": {
    "scrolled": true
   },
   "outputs": [],
   "source": [
    "def compute_distance(w,x):\n",
    "    '''\n",
    "    function for computing the distance between the x(data) and w(Weight) vector\n",
    "    takes in two arguments \n",
    "    w: weights\n",
    "    x: features\n",
    "    '''\n",
    "    distance=0\n",
    "    for i in range(len(w)):\n",
    "        distance = distance + (w[i] - x[i])*(w[i] - x[i])\n",
    "    distance = np.sqrt(distance)\n",
    "    return distance"
   ]
  },
  {
   "cell_type": "code",
   "execution_count": 12,
   "metadata": {},
   "outputs": [],
   "source": [
    "def find_closest_to_x(W,x):\n",
    "    '''\n",
    "    function to calculate the closest x vectors to the w vectors\n",
    "    takes in two arguments\n",
    "    w: weights\n",
    "    x: features\n",
    "    '''\n",
    "    w = W[0]\n",
    "    dist = compute_distance(w,x)\n",
    "    i = 0\n",
    "    i_n = i\n",
    "    for w_ in W:\n",
    "        if compute_distance(w_,x)<dist:\n",
    "            dist = compute_distance(w_, x)\n",
    "            w = w_\n",
    "            i_n = i\n",
    "        i = i + 1\n",
    "    return (w,i_n)"
   ]
  },
  {
   "cell_type": "code",
   "execution_count": 13,
   "metadata": {},
   "outputs": [],
   "source": [
    "la = 0.3    # λ coefficient\n",
    "dla = 0.05  # Δλ\n",
    "\n",
    "while la >= 0:\n",
    "    for k in range(10):\n",
    "        for x in data:\n",
    "            wm = find_closest_to_x(W, x)[0]\n",
    "            for i in range(len(wm)):\n",
    "                wm[i] = wm[i] + la * (x[i] - wm[i]) \n",
    "\n",
    "    la = la - dla"
   ]
  },
  {
   "cell_type": "code",
   "execution_count": 14,
   "metadata": {},
   "outputs": [
    {
     "data": {
      "text/plain": [
       "[[-1.064214165140594,\n",
       "  1.3853163529358439,\n",
       "  0.0016766424508773544,\n",
       "  0.5789122575773908,\n",
       "  1.1144445766811,\n",
       "  0.2167472313380367,\n",
       "  -1.0589362186060067,\n",
       "  -1.0121577286544032,\n",
       "  -0.7753649203576659,\n",
       "  -0.038092470427336045,\n",
       "  1.2257182484992892],\n",
       " [-0.3528971459336031,\n",
       "  0.42575321877142136,\n",
       "  -0.03148088342443953,\n",
       "  0.9255331810582358,\n",
       "  0.19833068225758907,\n",
       "  0.24631345706492322,\n",
       "  -0.2516682727907761,\n",
       "  -0.07993904397014939,\n",
       "  0.35668636402892173,\n",
       "  -0.06816882496000091,\n",
       "  -0.11670170798689698],\n",
       " [0.8651374213098317,\n",
       "  -0.5185625226167399,\n",
       "  -0.6773644354513707,\n",
       "  -0.1316687152272904,\n",
       "  -0.3401827524700091,\n",
       "  -0.6480909559681056,\n",
       "  0.8714921376445651,\n",
       "  0.8483295396339349,\n",
       "  0.6746099659062161,\n",
       "  -0.6169105319399472,\n",
       "  -0.5785433025130824]]"
      ]
     },
     "execution_count": 14,
     "metadata": {},
     "output_type": "execute_result"
    }
   ],
   "source": [
    "W"
   ]
  },
  {
   "cell_type": "code",
   "execution_count": null,
   "metadata": {},
   "outputs": [],
   "source": []
  }
 ],
 "metadata": {
  "kernelspec": {
   "display_name": "Python 3",
   "language": "python",
   "name": "python3"
  },
  "language_info": {
   "codemirror_mode": {
    "name": "ipython",
    "version": 3
   },
   "file_extension": ".py",
   "mimetype": "text/x-python",
   "name": "python",
   "nbconvert_exporter": "python",
   "pygments_lexer": "ipython3",
   "version": "3.7.3"
  }
 },
 "nbformat": 4,
 "nbformat_minor": 2
}
